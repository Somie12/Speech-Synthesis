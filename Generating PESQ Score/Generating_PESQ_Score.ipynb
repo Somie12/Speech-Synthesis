{
  "nbformat": 4,
  "nbformat_minor": 0,
  "metadata": {
    "colab": {
      "provenance": [],
      "gpuType": "T4",
      "include_colab_link": true
    },
    "kernelspec": {
      "name": "python3",
      "display_name": "Python 3"
    },
    "language_info": {
      "name": "python"
    },
    "accelerator": "GPU"
  },
  "cells": [
    {
      "cell_type": "markdown",
      "metadata": {
        "id": "view-in-github",
        "colab_type": "text"
      },
      "source": [
        "<a href=\"https://colab.research.google.com/github/Somie12/Speech-Synthesis/blob/main/Generating%20PESQ%20Score/Generating_PESQ_Score.ipynb\" target=\"_parent\"><img src=\"https://colab.research.google.com/assets/colab-badge.svg\" alt=\"Open In Colab\"/></a>"
      ]
    },
    {
      "cell_type": "code",
      "execution_count": null,
      "metadata": {
        "colab": {
          "base_uri": "https://localhost:8080/"
        },
        "id": "kk-jSnE_hUA5",
        "outputId": "7ff6fc18-f69e-4b08-8e2c-3c40bdeedc92"
      },
      "outputs": [
        {
          "output_type": "stream",
          "name": "stdout",
          "text": [
            "Mounted at /content/drive\n"
          ]
        }
      ],
      "source": [
        "from google.colab import drive\n",
        "drive.mount('/content/drive')"
      ]
    },
    {
      "cell_type": "code",
      "source": [
        "!pip install pesq"
      ],
      "metadata": {
        "colab": {
          "base_uri": "https://localhost:8080/"
        },
        "id": "facqx7jMn8qO",
        "outputId": "1e9e9a5f-ec1f-4905-937c-03561f44db78"
      },
      "execution_count": null,
      "outputs": [
        {
          "output_type": "stream",
          "name": "stdout",
          "text": [
            "Collecting pesq\n",
            "  Downloading pesq-0.0.4.tar.gz (38 kB)\n",
            "  Preparing metadata (setup.py) ... \u001b[?25l\u001b[?25hdone\n",
            "Building wheels for collected packages: pesq\n",
            "  Building wheel for pesq (setup.py) ... \u001b[?25l\u001b[?25hdone\n",
            "  Created wheel for pesq: filename=pesq-0.0.4-cp311-cp311-linux_x86_64.whl size=275946 sha256=9cfe98eda56f934250e82f05694f053829713dd19c37e8f6eaf62bd3e7b3ecd7\n",
            "  Stored in directory: /root/.cache/pip/wheels/ae/f1/23/2698d0bf31eec2b2aa50623b5d93b6206c49c7155d0e31345d\n",
            "Successfully built pesq\n",
            "Installing collected packages: pesq\n",
            "Successfully installed pesq-0.0.4\n"
          ]
        }
      ]
    },
    {
      "cell_type": "code",
      "source": [
        "import os\n",
        "import librosa\n",
        "import numpy as np\n",
        "from pesq import pesq"
      ],
      "metadata": {
        "id": "KYj1oX5eoHq2"
      },
      "execution_count": null,
      "outputs": []
    },
    {
      "cell_type": "code",
      "source": [
        "# Path to your audios in Google Drive\n",
        "reference_audio_path = \"/content/drive/MyDrive/Rany2edge-ttsGeneratedAudios/selected eng_audio/\"\n",
        "generated_audio_path = \"/content/drive/MyDrive/Rany2edge-ttsGeneratedAudios/Eng Generated Audios Rany2 edgeTTS/\""
      ],
      "metadata": {
        "id": "xIl77ce7oMnH"
      },
      "execution_count": null,
      "outputs": []
    },
    {
      "cell_type": "code",
      "source": [
        "def compute_pesq(reference_file, generated_file, sample_rate=16000):\n",
        "    # Load both reference and degraded (generated) audio files\n",
        "    ref_audio, sr1 = librosa.load(reference_file, sr=sample_rate)\n",
        "    gen_audio, sr2 = librosa.load(generated_file, sr=sample_rate)\n",
        "\n",
        "    # Ensure sample rates match\n",
        "    if sr1 != sample_rate or sr2 != sample_rate:\n",
        "        print(f\"Resampling {reference_file} and {generated_file} to {sample_rate} Hz\")\n",
        "        ref_audio = librosa.resample(ref_audio, orig_sr=sr1, target_sr=sample_rate)\n",
        "        gen_audio = librosa.resample(gen_audio, orig_sr=sr2, target_sr=sample_rate)\n",
        "\n",
        "    # Truncate or pad audio to the same length\n",
        "    min_length = min(len(ref_audio), len(gen_audio))\n",
        "    ref_audio = ref_audio[:min_length]\n",
        "    gen_audio = gen_audio[:min_length]\n",
        "\n",
        "    # Compute PESQ score (Using NB/WB mode)\n",
        "    score = pesq(sample_rate, ref_audio, gen_audio, 'wb')  # 'nb' for narrowband, 'wb' for wideband\n",
        "    return score"
      ],
      "metadata": {
        "id": "YzI6hSTQpGHJ"
      },
      "execution_count": null,
      "outputs": []
    },
    {
      "cell_type": "code",
      "source": [
        "# Get the list of audio files (assuming filenames match in both folders)\n",
        "audio_files = os.listdir(reference_audio_path)\n",
        "\n",
        "pesq_scores = {}\n",
        "\n",
        "for file in audio_files:\n",
        "    ref_file = os.path.join(reference_audio_path, file)\n",
        "    gen_file = os.path.join(generated_audio_path, file)\n",
        "\n",
        "    if os.path.exists(gen_file):  # Ensure corresponding generated file exists\n",
        "        score = compute_pesq(ref_file, gen_file)\n",
        "        pesq_scores[file] = score\n",
        "        print(f\"PESQ for {file}: {score:.4f}\")\n",
        "    else:\n",
        "        print(f\"Missing generated audio for {file}\")\n",
        "\n",
        "# Print average PESQ score\n",
        "avg_pesq = np.mean(list(pesq_scores.values()))\n",
        "print(f\"\\nAverage PESQ Score: {avg_pesq:.4f}\")"
      ],
      "metadata": {
        "colab": {
          "base_uri": "https://localhost:8080/"
        },
        "id": "9hkPHzB3pIlK",
        "outputId": "dea01234-ecec-4635-9901-c8cac2cc54cd"
      },
      "execution_count": null,
      "outputs": [
        {
          "output_type": "stream",
          "name": "stdout",
          "text": [
            "PESQ for 35.wav: 1.0197\n",
            "PESQ for 11.wav: 1.0198\n",
            "PESQ for 10.wav: 1.0465\n",
            "PESQ for 42.wav: 1.0230\n",
            "PESQ for 19.wav: 1.0273\n",
            "PESQ for 34.wav: 1.0250\n",
            "PESQ for 50.wav: 1.3600\n",
            "PESQ for 36.wav: 1.0280\n",
            "PESQ for 16.wav: 1.0416\n",
            "PESQ for 28.wav: 1.1691\n",
            "PESQ for 09.wav: 1.0202\n",
            "PESQ for 25.wav: 1.0383\n",
            "PESQ for 02.wav: 1.1313\n",
            "PESQ for 08.wav: 1.0309\n",
            "PESQ for 15.wav: 1.0649\n",
            "PESQ for 03.wav: 1.0513\n",
            "PESQ for 04.wav: 1.0414\n",
            "PESQ for 47.wav: 1.0266\n",
            "PESQ for 23.wav: 1.2246\n",
            "PESQ for 37.wav: 1.0212\n",
            "PESQ for 14.wav: 1.0414\n",
            "PESQ for 33.wav: 1.0233\n",
            "PESQ for 22.wav: 1.0467\n",
            "PESQ for 43.wav: 1.0376\n",
            "PESQ for 38.wav: 1.0307\n",
            "PESQ for 39.wav: 1.0490\n",
            "PESQ for 49.wav: 1.6751\n",
            "PESQ for 01.wav: 1.2628\n",
            "PESQ for 40.wav: 1.0236\n",
            "PESQ for 46.wav: 1.0224\n",
            "PESQ for 17.wav: 1.0196\n",
            "PESQ for 24.wav: 1.3115\n",
            "PESQ for 12.wav: 1.5758\n",
            "PESQ for 29.wav: 1.0470\n",
            "PESQ for 26.wav: 1.1480\n",
            "PESQ for 07.wav: 1.0237\n",
            "PESQ for 44.wav: 1.0238\n",
            "PESQ for 20.wav: 1.0204\n",
            "PESQ for 05.wav: 1.0211\n",
            "PESQ for 27.wav: 1.0685\n",
            "PESQ for 45.wav: 1.0264\n",
            "PESQ for 06.wav: 1.0249\n",
            "PESQ for 31.wav: 1.1511\n",
            "PESQ for 48.wav: 1.0266\n",
            "PESQ for 41.wav: 1.0277\n",
            "PESQ for 18.wav: 1.1855\n",
            "PESQ for 32.wav: 1.0306\n",
            "PESQ for 21.wav: 1.0212\n",
            "PESQ for 13.wav: 1.0835\n",
            "PESQ for 30.wav: 1.1451\n",
            "\n",
            "Average PESQ Score: 1.0921\n"
          ]
        }
      ]
    }
  ]
}